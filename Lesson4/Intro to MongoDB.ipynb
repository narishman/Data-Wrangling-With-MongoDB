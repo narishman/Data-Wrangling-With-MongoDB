{
 "cells": [
  {
   "cell_type": "markdown",
   "metadata": {},
   "source": [
    "#Working with Data in MongoDB\n",
    "Mongo DB is a NoSQL database that is designed to scale for Big Data.  MongoDB can be interacted with using the *mongo shell* or through a driver.  The driver used in Python is **pymongo** which allows you to interact with a MongoDB database.  In this notebook, we will go over some of the commands used in MongoDB and illustrate how they can be used in the Python Environment\n",
    "##Commands and Operators in MongoDB\n",
    "A list of the commands that we will be going over are\n",
    "- find\n",
    "- save\n",
    "- update\n",
    "- remove\n",
    "- drop\n",
    "\n",
    "A list of operators that we will be going over are\n",
    "- \\$in\n",
    "- \\$all\n",
    "- \\$exists\n",
    "- \\$set\n",
    "- \\$unset"
   ]
  },
  {
   "cell_type": "code",
   "execution_count": null,
   "metadata": {
    "collapsed": true
   },
   "outputs": [],
   "source": []
  }
 ],
 "metadata": {
  "kernelspec": {
   "display_name": "Python 2",
   "language": "python",
   "name": "python2"
  },
  "language_info": {
   "codemirror_mode": {
    "name": "ipython",
    "version": 2
   },
   "file_extension": ".py",
   "mimetype": "text/x-python",
   "name": "python",
   "nbconvert_exporter": "python",
   "pygments_lexer": "ipython2",
   "version": "2.7.10"
  }
 },
 "nbformat": 4,
 "nbformat_minor": 0
}
