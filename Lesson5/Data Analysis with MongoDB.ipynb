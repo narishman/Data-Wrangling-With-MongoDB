{
 "cells": [
  {
   "cell_type": "markdown",
   "metadata": {},
   "source": [
    "#Performing Data Analysis with MongoDB\n",
    "Data Analysis can be performed on collections in MongoDB through the use of the **Aggregation framework**.  MongoDB uses a pipeline approach in which the results from one pipeline are fed into the next stage of the pipeline for filtering/processing\n",
    "##Operators used in the Aggregation Framework\n",
    "Here is a list of the operators used in the Aggregation framework\n",
    "- \\$group\n",
    "- \\$sort\n",
    "- \\$sum\n",
    "- \\$project\n",
    "- \\$match\n",
    "- \\$skip\n",
    "- \\$limit\n",
    "- \\$unwind\n",
    "- \\$divide\n",
    "- \\$push\n",
    "- \\$addToSet"
   ]
  },
  {
   "cell_type": "code",
   "execution_count": null,
   "metadata": {
    "collapsed": true
   },
   "outputs": [],
   "source": []
  }
 ],
 "metadata": {
  "kernelspec": {
   "display_name": "Python 2",
   "language": "python",
   "name": "python2"
  },
  "language_info": {
   "codemirror_mode": {
    "name": "ipython",
    "version": 2
   },
   "file_extension": ".py",
   "mimetype": "text/x-python",
   "name": "python",
   "nbconvert_exporter": "python",
   "pygments_lexer": "ipython2",
   "version": "2.7.10"
  }
 },
 "nbformat": 4,
 "nbformat_minor": 0
}
