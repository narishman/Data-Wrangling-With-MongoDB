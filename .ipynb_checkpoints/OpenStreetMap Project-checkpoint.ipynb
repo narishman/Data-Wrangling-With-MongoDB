{
 "cells": [
  {
   "cell_type": "code",
   "execution_count": 1,
   "metadata": {
    "collapsed": false
   },
   "outputs": [
    {
     "name": "stdout",
     "output_type": "stream",
     "text": [
      "{'changeset': '14903606', 'uid': '1081376', 'timestamp': '2013-02-03T22:37:10Z', 'lon': '-84.262916', 'version': '3', 'user': 'greenv505', 'lat': '34.0852695', 'id': '1481302'}\n",
      "{'changeset': '3539549', 'uid': '147510', 'timestamp': '2010-01-04T18:34:56Z', 'lon': '-85.193644', 'version': '2', 'user': 'woodpeck_fixbot', 'lat': '32.870928', 'id': '52374104'}\n",
      "{'changeset': '3173372', 'uid': '147510', 'timestamp': '2009-11-21T04:30:48Z', 'lon': '-85.193643', 'version': '2', 'user': 'woodpeck_fixbot', 'lat': '32.871276', 'id': '52374106'}\n",
      "{'changeset': '3173372', 'uid': '147510', 'timestamp': '2009-11-21T04:30:48Z', 'lon': '-85.193652', 'version': '2', 'user': 'woodpeck_fixbot', 'lat': '32.87149', 'id': '52374108'}\n",
      "{'changeset': '3173372', 'uid': '147510', 'timestamp': '2009-11-21T04:30:48Z', 'lon': '-85.193689', 'version': '2', 'user': 'woodpeck_fixbot', 'lat': '32.871997', 'id': '52374110'}\n",
      "{'changeset': '3173372', 'uid': '147510', 'timestamp': '2009-11-21T04:30:52Z', 'lon': '-85.380091', 'version': '2', 'user': 'woodpeck_fixbot', 'lat': '32.889758', 'id': '52374332'}\n",
      "{'changeset': '3173372', 'uid': '147510', 'timestamp': '2009-11-21T04:30:52Z', 'lon': '-85.380342', 'version': '2', 'user': 'woodpeck_fixbot', 'lat': '32.889756', 'id': '52374334'}\n",
      "{'changeset': '3173372', 'uid': '147510', 'timestamp': '2009-11-21T04:30:52Z', 'lon': '-85.381099', 'version': '2', 'user': 'woodpeck_fixbot', 'lat': '32.889757', 'id': '52374336'}\n",
      "{'changeset': '3173372', 'uid': '147510', 'timestamp': '2009-11-21T04:30:52Z', 'lon': '-85.381518', 'version': '2', 'user': 'woodpeck_fixbot', 'lat': '32.889763', 'id': '52374338'}\n",
      "{'changeset': '3173372', 'uid': '147510', 'timestamp': '2009-11-21T04:30:52Z', 'lon': '-85.381684', 'version': '2', 'user': 'woodpeck_fixbot', 'lat': '32.889761', 'id': '52374340'}\n"
     ]
    }
   ],
   "source": [
    "import xml.etree.ElementTree as ET\n",
    "\n",
    "osm_file = \"atlanta_georgia.osm\"\n",
    "i = 0\n",
    "for _, element in ET.iterparse(osm_file):\n",
    "    if i == 10:\n",
    "        break\n",
    "    if element.tag == \"node\":\n",
    "        print element.attrib\n",
    "        i += 1\n",
    "    if element.tag == \"way\":\n",
    "        print element.attrib\n",
    "        i += 1\n"
   ]
  },
  {
   "cell_type": "code",
   "execution_count": null,
   "metadata": {
    "collapsed": true
   },
   "outputs": [],
   "source": []
  }
 ],
 "metadata": {
  "kernelspec": {
   "display_name": "Python 2",
   "language": "python",
   "name": "python2"
  },
  "language_info": {
   "codemirror_mode": {
    "name": "ipython",
    "version": 2
   },
   "file_extension": ".py",
   "mimetype": "text/x-python",
   "name": "python",
   "nbconvert_exporter": "python",
   "pygments_lexer": "ipython2",
   "version": "2.7.10"
  }
 },
 "nbformat": 4,
 "nbformat_minor": 0
}
