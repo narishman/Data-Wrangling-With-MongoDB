{
 "cells": [
  {
   "cell_type": "markdown",
   "metadata": {},
   "source": [
    "#Extracting Data from Complex Formats\n",
    "After looking some of the common data formats (*csv,Excel,JSON*), we turn our attention on some more complex data formats as well as an Introduction to **Screen Scraping**.  The two complex formats covered are **XML** and **HTML**. \n",
    "## Extracting Data from XML\n",
    "Extracting XML data is done through the *ElementTree* package in Python.  In this example, we show how python reads in the entire XML document.  Once we get the root using the **get_root()**, we can search the tree for tags using the **find** and the **findall** functions. These functions can take paths to search from a specific point.  It is also noteworthy to point out the use of the **attrib** member function which allows you to obtain attribute values."
   ]
  },
  {
   "cell_type": "code",
   "execution_count": 2,
   "metadata": {
    "collapsed": true
   },
   "outputs": [],
   "source": [
    "import xml.etree.ElementTree as ET\n",
    "\n",
    "article_file = \"exampleResearchArticle.xml\"\n",
    "\n",
    "\n",
    "def get_root(fname):\n",
    "    tree = ET.parse(fname)\n",
    "    return tree.getroot()\n",
    "\n",
    "\n",
    "def get_authors(root):\n",
    "    authors = []\n",
    "    for author in root.findall('./fm/bibl/aug/au'):\n",
    "        data = {\n",
    "                \"fnm\": None,\n",
    "                \"snm\": None,\n",
    "                \"email\": None,\n",
    "                \"insr\": []\n",
    "        }\n",
    "\n",
    "        # YOUR CODE HERE\n",
    "        data[\"fnm\"] = author.find('./fnm').text\n",
    "        data[\"snm\"] = author.find('./snm').text\n",
    "        data[\"email\"] = author.find('./email').text\n",
    "        for id_ in author.findall('./insr'):\n",
    "                data[\"insr\"].append(id_.attrib[\"iid\"])\n",
    "        #print data[\"insr\"] \n",
    "        authors.append(data)\n",
    "\n",
    "    return authors"
   ]
  },
  {
   "cell_type": "markdown",
   "metadata": {},
   "source": [
    "Below we show the output of the author dictonaries that are created in the loop on the *findall* function call"
   ]
  },
  {
   "cell_type": "code",
   "execution_count": 3,
   "metadata": {
    "collapsed": false
   },
   "outputs": [
    {
     "name": "stdout",
     "output_type": "stream",
     "text": [
      "[{'email': 'omer@extremegate.com',\n",
      "  'fnm': 'Omer',\n",
      "  'insr': ['I1'],\n",
      "  'snm': 'Mei-Dan'},\n",
      " {'email': 'mcarmont@hotmail.com',\n",
      "  'fnm': 'Mike',\n",
      "  'insr': ['I2'],\n",
      "  'snm': 'Carmont'},\n",
      " {'email': 'laver17@gmail.com',\n",
      "  'fnm': 'Lior',\n",
      "  'insr': ['I3', 'I4'],\n",
      "  'snm': 'Laver'},\n",
      " {'email': 'nyska@internet-zahav.net',\n",
      "  'fnm': 'Meir',\n",
      "  'insr': ['I3'],\n",
      "  'snm': 'Nyska'},\n",
      " {'email': 'kammarh@gmail.com',\n",
      "  'fnm': 'Hagay',\n",
      "  'insr': ['I8'],\n",
      "  'snm': 'Kammar'},\n",
      " {'email': 'gideon.mann.md@gmail.com',\n",
      "  'fnm': 'Gideon',\n",
      "  'insr': ['I3', 'I5'],\n",
      "  'snm': 'Mann'},\n",
      " {'email': 'barns.nz@gmail.com',\n",
      "  'fnm': 'Barnaby',\n",
      "  'insr': ['I6'],\n",
      "  'snm': 'Clarck'},\n",
      " {'email': 'eukots@gmail.com', 'fnm': 'Eugene', 'insr': ['I7'], 'snm': 'Kots'}]\n"
     ]
    }
   ],
   "source": [
    "import pprint\n",
    "root = get_root(article_file)\n",
    "data = get_authors(root)\n",
    "\n",
    "pprint.pprint(data)\n"
   ]
  },
  {
   "cell_type": "markdown",
   "metadata": {},
   "source": [
    "##Extracting Data from HTML (Screen Scraping)\n",
    "There are times when the data that we are interested is not conveneintly located in a specified format. When the data that we want resides on a webpage, then we are forced to extract the data from the *html* page.  This type of data extraction is called **Screen Scraping**.  During this process, we determine how the html code performs request, and programmitcally generate HTTP requests to obtain the data that we want. When trying to understand how HTTP requests are made, you should perform the following:\n",
    "- Look at how a browser makes requests\n",
    "- Emulate in code\n",
    "- If stuff Blows up, look at your HTTP traffic\n",
    "- Return to Step 1 until it works\n",
    "To see how browser makes requests, you can use the **Inspect Element** feature in Google Chrome.  To view the traffic, you use the the **Network** tab that can be accessed after opening the Inspect Element window"
   ]
  },
  {
   "cell_type": "code",
   "execution_count": 4,
   "metadata": {
    "collapsed": true
   },
   "outputs": [],
   "source": [
    "from bs4 import BeautifulSoup\n",
    "html_page = \"options.html\"\n",
    "\n",
    "\n",
    "def extract_airports(page):\n",
    "    data = []\n",
    "    with open(page, \"r\") as html:\n",
    "        # do something here to find the necessary values\n",
    "        soup = BeautifulSoup(html)\n",
    "        entries = soup.find(id=\"AirportList\")\n",
    "        l = entries.find_all_next(\"option\")\n",
    "        #print l\n",
    "        for a in l:\n",
    "          t = a[\"value\"]\n",
    "          if t != \"selected\" and t != \"AllMajors\" and t != \"AllOthers\" and t != \"All\":\n",
    "                #print t\n",
    "                data.append(t)\n",
    "    return data"
   ]
  },
  {
   "cell_type": "code",
   "execution_count": 5,
   "metadata": {
    "collapsed": false
   },
   "outputs": [
    {
     "name": "stdout",
     "output_type": "stream",
     "text": [
      "['ATL',\n",
      " 'BWI',\n",
      " 'BOS',\n",
      " 'CLT',\n",
      " 'MDW',\n",
      " 'ORD',\n",
      " 'DFW',\n",
      " 'DEN',\n",
      " 'DTW',\n",
      " 'FLL',\n",
      " 'IAH',\n",
      " 'LAS',\n",
      " 'LAX',\n",
      " 'ABR',\n",
      " 'ABI']\n"
     ]
    }
   ],
   "source": [
    "data = extract_airports(html_page)\n",
    "pprint.pprint(data)"
   ]
  },
  {
   "cell_type": "code",
   "execution_count": null,
   "metadata": {
    "collapsed": true
   },
   "outputs": [],
   "source": [
    "\n"
   ]
  }
 ],
 "metadata": {
  "kernelspec": {
   "display_name": "Python 2",
   "language": "python",
   "name": "python2"
  },
  "language_info": {
   "codemirror_mode": {
    "name": "ipython",
    "version": 2
   },
   "file_extension": ".py",
   "mimetype": "text/x-python",
   "name": "python",
   "nbconvert_exporter": "python",
   "pygments_lexer": "ipython2",
   "version": "2.7.10"
  }
 },
 "nbformat": 4,
 "nbformat_minor": 0
}
