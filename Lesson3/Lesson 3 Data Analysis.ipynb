{
 "cells": [
  {
   "cell_type": "markdown",
   "metadata": {},
   "source": [
    "#Data Analysis\n",
    "\n",
    "##Measuring Data Quality\n",
    "- Validity : Conforms to a Schema\n",
    "- Accuracy: Conforms to a Gold Standard\n",
    "- Completeness:  Are all records there?\n",
    "- Consistency: Matches other data\n",
    "- Uniformity: Are all the units the same\n",
    "###Auditing Validity\n",
    "Auditing Validaty relates to making sure that our data conforms to a certain schema.  This means that certain fields may need to fall within a certain range, Some fields may be required to be present, and some fields may need to follow a specific pattern in which we could test with regular expressions.\n",
    "##Blueprint for Cleaning your Data\n",
    "- Audit your data\n",
    "- Create a Data Cleaning plan\n",
    "    - Identify Causes\n",
    "    - Define Operations that will correct our data\n",
    "    - Test\n",
    "- Execute the plan\n",
    "- Manually Correct"
   ]
  },
  {
   "cell_type": "code",
   "execution_count": null,
   "metadata": {
    "collapsed": true
   },
   "outputs": [],
   "source": []
  }
 ],
 "metadata": {
  "kernelspec": {
   "display_name": "Python 2",
   "language": "python",
   "name": "python2"
  },
  "language_info": {
   "codemirror_mode": {
    "name": "ipython",
    "version": 2
   },
   "file_extension": ".py",
   "mimetype": "text/x-python",
   "name": "python",
   "nbconvert_exporter": "python",
   "pygments_lexer": "ipython2",
   "version": "2.7.10"
  }
 },
 "nbformat": 4,
 "nbformat_minor": 0
}
